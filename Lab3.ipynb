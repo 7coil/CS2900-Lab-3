{
 "cells": [
  {
   "cell_type": "markdown",
   "metadata": {},
   "source": [
    "The learning outcomes of this session are\n",
    "\n",
    "-   to have an introductory understanding of solving linear equations in\n",
    "    NumPy and be introduced to ill-conditioned matrices. To have\n",
    "    experience of using the NumPy reference document pages.\n",
    "\n",
    "-   To become familiar with projecting onto sub-spaces and null spaces.\n",
    "\n",
    "-   Introduce the concept of power series solutions .\n",
    "\n",
    "Set up\n",
    "======\n",
    "\n",
    "1.  Go to the moodle page and follow the link to the Lab 3 binder\n",
    "    session.\n",
    "\n",
    "2.  Be sure to import NumPy as before with"
   ]
  },
  {
   "cell_type": "code",
   "execution_count": 4,
   "metadata": {},
   "outputs": [],
   "source": [
    "    import numpy as np\n",
    "    import math"
   ]
  },
  {
   "cell_type": "markdown",
   "metadata": {},
   "source": [
    "Adjacency matrices\n",
    "==================\n",
    "\n",
    "If you have not completed the adjacency matrix section in the previous\n",
    "lab, go and do this first now.\n",
    "\n",
    "Solving linear equations\n",
    "========================\n",
    "\n",
    "As discussed in topic 3 we can solve equations of the form\n",
    "$$\\mathbf{A} \\underline{x} \\;\\; = \\;\\; \\underline{b} \\;\\; ,\n",
    "\\label{eqn:linearEqn}$$ where we know $\\mathbf{A}$ and $\\underline{b}$\n",
    "but not $\\underline{x}$. In NumPy this can be computed using the\n",
    "function numpy.linalg.solve.\n",
    "\n",
    "Solving\n",
    "-------\n",
    "\n",
    "1.  Go to the NumPy reference pages\n",
    "    <a href=\"https://docs.scipy.org/doc/numpy/reference/\" class=\"uri\">https://docs.scipy.org/doc/numpy/reference/</a>\n",
    "    and find the page on numpy.linalg.solve and determine how to use it\n",
    "    to solve the above.\n",
    "\n",
    "2.  **Use numpy.linalg.solve to solve\n",
    "    $\\mathbf{A} \\underline{x} = \\underline{b}$ for the following.**\n",
    "    $$\\begin{aligned}\n",
    "    \\mathbf{A} = \n",
    "    \\begin{pmatrix}\n",
    "    10 & 1 \\\\\n",
    "    1 & 10 \n",
    "    \\end{pmatrix}\n",
    "    && \\underline{b} = \n",
    "    \\begin{pmatrix}\n",
    "    200 \\\\\n",
    "    -200\n",
    "    \\end{pmatrix} \\\\\n",
    "    \\mathbf{A} = \n",
    "    \\begin{pmatrix}\n",
    "    10 & 1 & 2\\\\\n",
    "    1 & 10 & -3 \\\\\n",
    "    3 & 15 & -3 \n",
    "    \\end{pmatrix}\n",
    "    && \\underline{b} = \n",
    "    \\begin{pmatrix}\n",
    "    200 \\\\\n",
    "    -200 \\\\\n",
    "    -150\n",
    "    \\end{pmatrix} \\\\\n",
    "    \\mathbf{A} = \n",
    "    \\begin{pmatrix}\n",
    "    10 & 1 & 2\\\\\n",
    "    1 & 10 & -3 \n",
    "    \\end{pmatrix}\n",
    "    && \\underline{b} = \n",
    "    \\begin{pmatrix}\n",
    "    200 \\\\\n",
    "    -200 \\\\\n",
    "    -150\n",
    "    \\end{pmatrix} \\\\\n",
    "    \\mathbf{A} = \n",
    "    \\begin{pmatrix}\n",
    "    1 & 1 \\\\\n",
    "    2 & 2\n",
    "    \\end{pmatrix}\n",
    "    && \\underline{b} = \n",
    "    \\begin{pmatrix}\n",
    "    200 \\\\\n",
    "    -200\n",
    "    \\end{pmatrix} \\end{aligned}$$\n",
    "\n",
    "3.  Be sure to declare $\\mathbf{A}$ and $\\underline{b}$ as being of type\n",
    "    float.\n",
    "\n",
    "4.  **Some of these cases will generate error messages. What type of\n",
    "    error message did they generate? Why?** Ask Hugh if you’re not sure\n",
    "    (but stop and think about it first).\n",
    "\n",
    "5.  **For those cases where there is a solution, how would you\n",
    "    numerically show that it’s the right solution?**"
   ]
  },
  {
   "cell_type": "code",
   "execution_count": null,
   "metadata": {},
   "outputs": [],
   "source": []
  },
  {
   "cell_type": "markdown",
   "metadata": {},
   "source": [
    "Nearly singular matrices\n",
    "------------------------\n",
    "\n",
    "We’ve note previously that many matrices are singular -\n",
    "i.e. non-invertible. There are also many matrices which are nearly\n",
    "singular. The upshot of this is that solutions to\n",
    "<a href=\"#eqn:linearEqn\" data-reference-type=\"ref\" data-reference=\"eqn:linearEqn\">[eqn:linearEqn]</a>\n",
    "are very unstable. This can even turn up in simple $2 \\times 2$\n",
    "matrices.\n",
    "\n",
    "1.  Consider the following very similar matrices $$\\mathbf{A} = \n",
    "    \\begin{pmatrix}\n",
    "    400 & -201\\\\\n",
    "    -800&401.0 \n",
    "    \\end{pmatrix}\n",
    "    \\;\\; \n",
    "    \\mathbf{B} = \n",
    "    \\begin{pmatrix}\n",
    "    401 & -201\\\\\n",
    "    -800&401.0 \n",
    "    \\end{pmatrix}$$\n",
    "\n",
    "2.  For $$\\underline{b} \\;\\; = \\;\\; \n",
    "    \\begin{pmatrix}\n",
    "    200 \\\\\n",
    "    -200\n",
    "    \\end{pmatrix}$$ **Find solutions for $$\\begin{aligned}\n",
    "    \\mathbf{A} \\underline{x} \\;\\; &=& \\underline{b} \\;\\; ,\\\\\n",
    "    \\mathbf{B} \\underline{y} \\;\\; &=& \\underline{b} \\;\\; .\\end{aligned}$$**"
   ]
  },
  {
   "cell_type": "code",
   "execution_count": null,
   "metadata": {},
   "outputs": [],
   "source": []
  },
  {
   "cell_type": "markdown",
   "metadata": {},
   "source": [
    "1.  **Did you expect there to be such a large difference between\n",
    "    $\\underline{x}$ and $\\underline{y}$?**\n",
    "\n",
    "2.  Construct a matrix $\\mathbf{C}$ defined as\n",
    "    $$\\mathbf{C} \\;\\; = \\;\\; d \\mathbf{A} \\,\\, + \\,\\, (1-d) \\mathbf{B} \\;\\; ,$$\n",
    "    for various values of $d$ between $0$ and $1$. **For the same value\n",
    "    of $\\underline{b}$ find solutions for\n",
    "    $\\mathbf{C} \\underline{x} = \\underline{b}$. What is going on?**"
   ]
  },
  {
   "cell_type": "code",
   "execution_count": null,
   "metadata": {},
   "outputs": [],
   "source": []
  },
  {
   "attachments": {
    "Lab3_1.png": {
     "image/png": "[encoded data removed]"
    }
   },
   "cell_type": "markdown",
   "metadata": {},
   "source": [
    "Projection\n",
    "==========\n",
    "\n",
    "As discussed in Topic 3 we can project a vector in a particular space\n",
    "onto a sub-space (e.g. project a vector in 2 dimensions onto a line,\n",
    "project a vector in 3 dimensions onto a plane and so on).\n",
    "\n",
    "To do this we need a orthonormal basis for the sub-space.\n",
    "\n",
    "We then construct a matrix $\\mathbf{P}$ whose rows are made up of the\n",
    "unit vectors of the orthonormal basis. If the vector we want to project\n",
    "is $\\underline{x}$ then\n",
    "$\\mathbf{P}^{\\intercal} (\\mathbf{P} \\underline{x})$ is the projected\n",
    "vector.\n",
    "\n",
    "2 Dimensions\n",
    "------------\n",
    "\n",
    "We’ll first consider a 2 dimensional example with the following line.\n",
    "\n",
    "<figure>\n",
    "<img src=\"attachment:Lab3_1.png\" alt=\"image\" style=\"height:4cm\" /><figcaption>image</figcaption>\n",
    "</figure>\n",
    "\n",
    "1.  In your script window type"
   ]
  },
  {
   "cell_type": "code",
   "execution_count": null,
   "metadata": {},
   "outputs": [],
   "source": [
    "    uhat = np.array([1.0/math.sqrt(2),1.0/math.sqrt(2)])"
   ]
  },
  {
   "cell_type": "code",
   "execution_count": null,
   "metadata": {},
   "outputs": [],
   "source": [
    "    P = np.array([uhat])"
   ]
  },
  {
   "cell_type": "markdown",
   "metadata": {},
   "source": [
    "    (It's important make sure you have the square bracket ordering correct.)"
   ]
  },
  {
   "cell_type": "code",
   "execution_count": null,
   "metadata": {},
   "outputs": [],
   "source": [
    "    Pt = np.transpose(P)"
   ]
  },
  {
   "cell_type": "code",
   "execution_count": null,
   "metadata": {},
   "outputs": [],
   "source": [
    "    M = Pt.dot(P)"
   ]
  },
  {
   "cell_type": "code",
   "execution_count": null,
   "metadata": {},
   "outputs": [],
   "source": [
    "    print(M)"
   ]
  },
  {
   "cell_type": "markdown",
   "metadata": {},
   "source": [
    "    **What are the dimensions of $\\mathbf{M}$?**\n",
    "\n",
    "1.  One can now use $\\mathbf{M}$ to project a vector onto this line.\n",
    "    **Compute $\\mathbf{M} \\underline{x}$ for the following vectors.**\n",
    "    $$\\begin{pmatrix}\n",
    "    1\\\\ 0 \n",
    "    \\end{pmatrix},\n",
    "    \\begin{pmatrix}\n",
    "    1\\\\ 1 \n",
    "    \\end{pmatrix},\n",
    "    \\begin{pmatrix}\n",
    "    0 \\\\ -1 \n",
    "    \\end{pmatrix},\n",
    "    \\begin{pmatrix}\n",
    "    1\\\\ -1 \n",
    "    \\end{pmatrix}$$ **What did you find? Did they match with what you\n",
    "    expected?**"
   ]
  },
  {
   "cell_type": "code",
   "execution_count": null,
   "metadata": {},
   "outputs": [],
   "source": []
  },
  {
   "cell_type": "markdown",
   "metadata": {},
   "source": [
    "1.  We could have picked a different unit vector to represent the same\n",
    "    line, namely\n",
    "    $\\underline{\\hat{u}} = \\begin{pmatrix}-1/\\sqrt 2 \\\\ -1 / \\sqrt 2\\end{pmatrix}$.\n",
    "    **Compute $\\mathbf{M}$ with this vector and then recompute\n",
    "    $\\mathbf{M} \\underline{x}$ for the above vectors. What happenend?**"
   ]
  },
  {
   "cell_type": "code",
   "execution_count": null,
   "metadata": {},
   "outputs": [],
   "source": []
  },
  {
   "cell_type": "markdown",
   "metadata": {},
   "source": [
    "3 Dimensions\n",
    "------------\n",
    "\n",
    "This can be extended to three dimensions. In this case we will consider\n",
    "the projection from 3 dimensions to the x-y plane and we shall pick as\n",
    "an orthonormal basis $$\\underline{\\hat{u}} =\n",
    "\\begin{pmatrix}\n",
    "1 \\\\\n",
    "0 \\\\\n",
    "0 \n",
    "\\end{pmatrix} \\;\\; \n",
    "\\underline{\\hat{v}} =\n",
    "\\begin{pmatrix}\n",
    "0 \\\\\n",
    "1 \\\\\n",
    "0 \n",
    "\\end{pmatrix}$$\n",
    "\n",
    "1.  **In Numpy construct the corresponding matrix $\\mathbf{P}$ using\n",
    "    $\\underline{\\hat{u}}$ and $\\underline{\\hat{v}}$ and hence compute\n",
    "    $\\mathbf{M} = \\mathbf{P}^{\\intercal}\\mathbf{P}$.**\n",
    "\n",
    "2.  **Compute $\\mathbf{M} \\underline{x}$ for** $$\\begin{pmatrix}\n",
    "    1 \\\\ 1 \\\\ 1\n",
    "    \\end{pmatrix}, \\;\\; \n",
    "    \\begin{pmatrix}\n",
    "    1 \\\\ 0 \\\\ 0\n",
    "    \\end{pmatrix}, \\;\\; \n",
    "    \\begin{pmatrix}\n",
    "    0 \\\\ 0 \\\\ 1\n",
    "    \\end{pmatrix} \\;\\;$$ **do the results match what you expected?**"
   ]
  },
  {
   "cell_type": "code",
   "execution_count": null,
   "metadata": {},
   "outputs": [],
   "source": []
  },
  {
   "cell_type": "markdown",
   "metadata": {},
   "source": [
    "1.  **Repeat above for different basis vectors to represent the same\n",
    "    sub-space,** e.g. $$\\underline{\\hat{u}} =\n",
    "    \\begin{pmatrix}\n",
    "    1/\\sqrt 2 \\\\\n",
    "    1 / \\sqrt 2\\\\\n",
    "    0 \n",
    "    \\end{pmatrix} \\;\\; \n",
    "    \\underline{\\hat{v}} =\n",
    "    \\begin{pmatrix}\n",
    "    1 / \\sqrt 2 \\\\\n",
    "    -1 / \\sqrt 2\\\\\n",
    "    0 \n",
    "    \\end{pmatrix}$$"
   ]
  },
  {
   "cell_type": "code",
   "execution_count": null,
   "metadata": {},
   "outputs": [],
   "source": []
  },
  {
   "cell_type": "markdown",
   "metadata": {},
   "source": [
    "Power series\n",
    "============\n",
    "\n",
    "In the adjacency matrix problem, you learnt how to compute\n",
    "$\\mathbf{A}^2$, $\\mathbf{A}^3$, $\\mathbf{A}^4$ and so on where\n",
    "$\\mathbf{A}$ is an adjacency matrix.\n",
    "\n",
    "In the last part of topic 3 we will be introduced to the *PageRank*\n",
    "algorithm, which ranks the importance of nodes depending on how many\n",
    "other nodes link into it. To solve this, we make use of the trick of\n",
    "repeatedly multiplying a vector $\\underline{x}$ by a matrix and updating\n",
    "$\\underline{x}$ with this new vector, until $\\underline{x}$ no longer\n",
    "changes. The key matrix for this is $\\mathbf{R}^{\\intercal}$ where\n",
    "$$R_{ij} \\;\\; = \\;\\; \\frac{A_{ij}}{\\sum_j A_{ij}} \\;\\; .$$\n",
    "\n",
    "Note that we are calculating $\\mathbf{R}$ in this equation but that we\n",
    "need to use $\\mathbf{R}^{\\intercal}$.\n",
    "\n",
    "The algorithm is\n",
    "\n",
    "$\\underline{y} \\gets \\mathbf{R}^{\\intercal} \\underline{x}$\n",
    "$\\delta \\gets | \\,\\,\\underline{x} - \\underline{y} \\,\\,|$\n",
    "$\\underline{x} \\gets \\underline{y}$ Return $\\underline{x}$\n",
    "\n",
    "1.  **Write a Python function to compute $\\mathbf{R}^{\\intercal}$ for a\n",
    "    given adjacency matrix.**"
   ]
  },
  {
   "cell_type": "code",
   "execution_count": null,
   "metadata": {},
   "outputs": [],
   "source": []
  },
  {
   "cell_type": "markdown",
   "metadata": {},
   "source": [
    "1.  **Using your code compute $\\mathbf{R}^{\\intercal}$ for the following\n",
    "    adjacency matrix.** $$\\begin{pmatrix}\n",
    "    0 & 1 & 0 & 0 & 0 \\\\\n",
    "    1 & 0 & 1 & 0 & 0 \\\\\n",
    "    1 & 0 & 0 & 1 & 1 \\\\\n",
    "    1 & 0 & 0 & 0 & 0 \\\\\n",
    "    0 & 0 & 0 & 1 & 1\n",
    "    \\end{pmatrix}$$"
   ]
  },
  {
   "cell_type": "code",
   "execution_count": null,
   "metadata": {},
   "outputs": [],
   "source": []
  },
  {
   "cell_type": "markdown",
   "metadata": {},
   "source": [
    "1.  **Write a Python function to run the computeRank algorithm.** Print\n",
    "    out $\\underline{x}$ after every update. Use a number of different\n",
    "    possible initial values of $\\underline{x}$, in particular where\n",
    "    there is a 1 in one entry and zero elsewhere and where all the\n",
    "    values are equal to $1/5$."
   ]
  },
  {
   "cell_type": "code",
   "execution_count": null,
   "metadata": {},
   "outputs": [],
   "source": []
  }
 ],
 "metadata": {
  "author": [
   "Hugh Shanahan"
  ],
  "kernelspec": {
   "display_name": "Python 2",
   "language": "python",
   "name": "python2"
  },
  "language_info": {
   "codemirror_mode": {
    "name": "ipython",
    "version": 2
   },
   "file_extension": ".py",
   "mimetype": "text/x-python",
   "name": "python",
   "nbconvert_exporter": "python",
   "pygments_lexer": "ipython2",
   "version": "2.7.15"
  },
  "title": "CS2900 :- Topic 3 Lab"
 },
 "nbformat": 4,
 "nbformat_minor": 5
}
